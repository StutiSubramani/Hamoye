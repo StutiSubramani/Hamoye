{
 "cells": [
  {
   "cell_type": "code",
   "execution_count": 9,
   "id": "2b85e712",
   "metadata": {},
   "outputs": [],
   "source": [
    "import numpy as np\n",
    "import pandas as pd #data processing(reading csv file)"
   ]
  },
  {
   "cell_type": "code",
   "execution_count": null,
   "id": "2e7dd19e",
   "metadata": {},
   "outputs": [],
   "source": [
    "#Reading the train classes that contains the image names and tags from the directory\n",
    "train_classes = pd.read_csv('')\n",
    "train_classes.head()"
   ]
  },
  {
   "cell_type": "code",
   "execution_count": null,
   "id": "40428ef7",
   "metadata": {},
   "outputs": [],
   "source": [
    "#define a function to split the tags and store a set of the tags in a variable called labels.\n",
    "#set is used to return the unique labels in the tags\n",
    "labels = set()\n",
    "def splitting_tags(tags):\n",
    "    for tag in tags.split():\n",
    "        labels.add(tag)\n",
    "\n",
    "#we redefine the train_classes by creating a copy of it so as not to overwrite the existing one. \n",
    "#so a copy of the train classes is stored in the variable train_classes1, we convert labels which is a set to a list.\n",
    "train_classes1 = train_classes.copy()\n",
    "train_classes1['tags'].apply(splitting_tags)\n",
    "labels = list(labels)\n",
    "print(labels)\n",
    "['blooming', 'agriculture', 'blow_down', 'clear', 'selective_logging', 'conventional_mine', 'road', 'partly_cloudy', 'water', 'cloudy', 'artisinal_mine', 'slash_burn', 'cultivation', 'bare_ground', 'habitation', 'haze', 'primary']"
   ]
  },
  {
   "cell_type": "code",
   "execution_count": null,
   "id": "4ea4f714",
   "metadata": {},
   "outputs": [],
   "source": [
    "#assert  that the length of the dataframe is the same as the shape\n",
    "assert len(train_classes1['image_name'].unique()) == train_classes1.shape[0]"
   ]
  },
  {
   "cell_type": "code",
   "execution_count": null,
   "id": "7272e765",
   "metadata": {},
   "outputs": [],
   "source": [
    "##One hot encoding is performed on the labels in train classes\n",
    "for tag in labels:\n",
    "    train_classes1[tag] = train_classes1['tags'].apply(lambda x: 1 if tag in x.split() else 0)\n",
    "    \n",
    "## adding .jpg extension to the column image_name so as to have same name format as the image files\n",
    "train_classes1['image_name'] = train_classes1['image_name'].apply(lambda x: '{}.jpg'.format(x))\n",
    "train_classes1.head()"
   ]
  },
  {
   "cell_type": "code",
   "execution_count": null,
   "id": "6b868dcf",
   "metadata": {},
   "outputs": [],
   "source": [
    "#importing tensorflow libraries for training the dataset\n",
    "import tensorflow as tf\n",
    "from tensorflow.keras.models import Sequential\n",
    "from tensorflow.keras.layers import Dense, BatchNormalization, Conv2D, MaxPooling2D\n",
    "from tensorflow.keras.layers import Dropout, Flatten\n",
    "from tensorflow.keras.optimizers import Adam, SGD\n",
    "from tensorflow.keras.callbacks import EarlyStopping, ModelCheckpoint, TensorBoard\n",
    "from tensorflow.keras.preprocessing.image import ImageDataGenerator"
   ]
  },
  {
   "cell_type": "code",
   "execution_count": null,
   "id": "093cec16",
   "metadata": {},
   "outputs": [],
   "source": [
    "#defining the columns, that is the labels that were newly added to the train_classes via hot encoding.\n",
    "columns = list(train_classes1.columns[2:]) #from index 2 to the end defines the columns\n",
    "columns"
   ]
  },
  {
   "cell_type": "code",
   "execution_count": null,
   "id": "f0c2f036",
   "metadata": {},
   "outputs": [],
   "source": [
    "#define a function for fbeta scoring\n",
    "def fbeta(y_true, y_pred, beta = 2, epsilon = 1e-4):\n",
    "    \n",
    "    beta_squared = beta**2\n",
    "    \n",
    "    y_true = tf.cast(y_true, tf.float32)\n",
    "    y_pred = tf.cast(tf.greater(tf.cast(y_pred, tf.float32), tf.constant(0.5)), tf.float32)\n",
    "    \n",
    "    tp = tf.reduce_sum(y_true * y_pred, axis = 1)\n",
    "    fp = tf.reduce_sum(y_pred, axis = 1) - tp\n",
    "    fn = tf.reduce_sum(y_true, axis = 1) - tp\n",
    "    \n",
    "    precision = tp/(tp+fp+epsilon)\n",
    "    recall = tp/(tp+fn+epsilon)\n",
    "    \n",
    "    fb = (1+beta_squared)*precision*recall / (beta_squared*precision+recall+epsilon)\n",
    "    return fb"
   ]
  },
  {
   "cell_type": "code",
   "execution_count": null,
   "id": "e1370833",
   "metadata": {},
   "outputs": [],
   "source": [
    "#define a function for accuracy for multi_label classification\n",
    "def multi_label_acc(y_true, y_pred, epsilon = 1e-4):\n",
    "    \n",
    "    y_true = tf.cast(y_true, tf.float32)\n",
    "    y_pred = tf.cast(tf.greater(tf.cast(y_pred, tf.float32), tf.constant(0.5)), tf.float32)\n",
    "    \n",
    "    tp = tf.reduce_sum(y_true * y_pred, axis = 1)\n",
    "    fp = tf.reduce_sum(y_pred, axis = 1) - tp\n",
    "    fn = tf.reduce_sum(y_true, axis = 1) - tp\n",
    "    \n",
    "    y_true = tf.cast(y_true, tf.bool)\n",
    "    y_pred = tf.cast(y_pred, tf.bool)\n",
    "        \n",
    "    tn = tf.reduce_sum(tf.cast(tf.logical_not(y_true), tf.float32) * tf.cast(tf.logical_not(y_pred), tf.float32), \n",
    "                       axis = 1)\n",
    "    return (tp+tn)/(tp+tn+fp+fn+epsilon)"
   ]
  },
  {
   "cell_type": "code",
   "execution_count": null,
   "id": "3bf94550",
   "metadata": {},
   "outputs": [],
   "source": [
    "#defining our model using a function build_model()\n",
    "def build_model():\n",
    "    model = Sequential()\n",
    "    model.add(BatchNormalization(input_shape=(128, 128, 3)))\n",
    "    model.add(Conv2D(32, kernel_size=(3, 3), padding='same', activation='relu'))\n",
    "    model.add(Conv2D(32, kernel_size=(3, 3), activation='relu'))\n",
    "    model.add(MaxPooling2D(pool_size=(2, 2)))\n",
    "    model.add(Dropout(0.2))\n",
    "\n",
    "    model.add(Conv2D(64, kernel_size=(3, 3), padding='same', activation='relu'))\n",
    "    model.add(Conv2D(64, kernel_size=(3, 3), activation='relu'))\n",
    "    model.add(MaxPooling2D(pool_size=(2, 2)))\n",
    "    model.add(Dropout(0.2))\n",
    "\n",
    "    model.add(Conv2D(128, kernel_size=(3, 3), padding='same', activation='relu'))\n",
    "    model.add(Conv2D(128, kernel_size=(3, 3), activation='relu'))\n",
    "    model.add(MaxPooling2D(pool_size=(2, 2)))\n",
    "    model.add(Dropout(0.2))\n",
    "\n",
    "    model.add(Conv2D(256, kernel_size=(3, 3), padding='same', activation='relu'))\n",
    "    model.add(Conv2D(256, kernel_size=(3, 3), activation='relu'))\n",
    "    model.add(MaxPooling2D(pool_size=(2, 2)))\n",
    "    model.add(Dropout(0.2))\n",
    "\n",
    "    model.add(Flatten())\n",
    "    model.add(Dense(512, activation='relu'))\n",
    "    model.add(Dropout(0.5))\n",
    "    model.add(Dense(17, activation='sigmoid'))\n",
    "\n",
    "    opt = Adam(lr=1e-4)\n",
    "\n",
    "    model.compile(loss='binary_crossentropy',\n",
    "              # We NEED binary here, since categorical_crossentropy l1 norms the output before calculating loss.\n",
    "              optimizer=opt,\n",
    "              metrics=[multi_label_acc, fbeta])\n",
    "\n",
    "    return model"
   ]
  },
  {
   "cell_type": "code",
   "execution_count": null,
   "id": "bfe0c0cd",
   "metadata": {},
   "outputs": [],
   "source": [
    "#modelcheckpoint is set to monitor the model using validation fbeta score and save the best only\n",
    "save_best_check_point = ModelCheckpoint(filepath = 'best_model.hdf5', monitor = 'val_fbeta', mode = 'max',\n",
    "                                       save_best_only = True, save_weights_only = True)\n",
    "#initializing imagedatagenerator with a validation split of 0.2\n",
    "train_image_gen = ImageDataGenerator(rescale = 1/255, validation_split = 0.2)\n",
    "\n",
    "#generating train data generator which is 80% of the train dataset\n",
    "#note that a generator contains both features and target of the data\n",
    "train_generator = train_image_gen.flow_from_dataframe(dataframe=train_classes1,\n",
    "                                                directory =\"../input/planets-dataset/planet/planet/train-jpg\",  \n",
    "                                                x_col=\"image_name\", y_col=columns, subset=\"training\", \n",
    "                                                batch_size=16,seed=2021, shuffle=True, \n",
    "                                                class_mode=\"raw\", target_size=(128,128))\n",
    "\n",
    "#generating validation data which is expected to be 20% of the train dataset since validation split is 0.2\n",
    "val_generator = train_image_gen.flow_from_dataframe(dataframe=train_classes1,\n",
    "                                                directory =\"../input/planets-dataset/planet/planet/train-jpg\",  \n",
    "                                                x_col=\"image_name\", y_col=columns, subset=\"validation\", \n",
    "                                                batch_size=16,seed=2021, shuffle=True, \n",
    "                                                class_mode=\"raw\", target_size=(128,128))"
   ]
  },
  {
   "cell_type": "code",
   "execution_count": null,
   "id": "2e6bf94b",
   "metadata": {},
   "outputs": [],
   "source": [
    "#setting up step size for training and validation image data\n",
    "step_train_size = int(np.ceil(train_generator.samples / train_generator.batch_size))\n",
    "step_val_size = int(np.ceil(val_generator.samples / val_generator.batch_size))\n",
    "#initializing the model\n",
    "model1 = build_model()\n",
    "#this shows the summary of the model, simply put as the model architecture\n",
    "model1.summary()"
   ]
  },
  {
   "cell_type": "code",
   "execution_count": null,
   "id": "65b95f03",
   "metadata": {},
   "outputs": [],
   "source": [
    "#fitting our model using the parameters already defined \n",
    "model1.fit(x = train_generator, steps_per_epoch = step_train_size, validation_data = val_generator, \n",
    "           validation_steps = step_val_size,epochs = 25, \n",
    "           callbacks = [save_best_check_point])"
   ]
  },
  {
   "cell_type": "code",
   "execution_count": null,
   "id": "e3be53ba",
   "metadata": {},
   "outputs": [],
   "source": [
    "#initializing a second model so we can make predictions\n",
    "model2 = build_model()\n",
    "##adding .jpg extension to image name in the sample submission file\n",
    "sample_submission = pd.read_csv('../input/planets-dataset/planet/planet/sample_submission.csv')\n",
    "sample_submission1 = sample_submission.copy()\n",
    "sample_submission1['image_name'] = sample_submission1['image_name'].apply(lambda x: '{}.jpg'.format(x))\n",
    "sample_submission1.head()"
   ]
  },
  {
   "cell_type": "code",
   "execution_count": null,
   "id": "deade6cc",
   "metadata": {},
   "outputs": [],
   "source": [
    "#loading in the weights of the trained model so we can make predictions with it\n",
    "model2.load_weights('best_model.hdf5')\n",
    "#we divide the sample submission file into two splits, first test1_df which contains the first 40669 images \n",
    "test1_df = sample_submission1.iloc[:40669]['image_name'].reset_index().drop('index', axis =1)\n",
    "test1_df.head()"
   ]
  },
  {
   "cell_type": "code",
   "execution_count": null,
   "id": "76d9bb01",
   "metadata": {},
   "outputs": [],
   "source": [
    "#initializing imagedatagenerator for the test images and also rescaling\n",
    "test_image_gen = ImageDataGenerator(rescale = 1/255)\n",
    "\n",
    "\n",
    "#creating a generator for the images found in the first test image files\n",
    "test_generator1 = test_image_gen.flow_from_dataframe(dataframe=test1_df, \n",
    "                                                directory=\"../input/planets-dataset/planet/planet/test-jpg\", \n",
    "                                                x_col=\"image_name\", y_col=None, batch_size=16, \n",
    "                                                shuffle=False, class_mode=None, target_size=(128,128))\n",
    "\n",
    "step_test_size1 = int(np.ceil(test_generator1.samples/test_generator1.batch_size))"
   ]
  },
  {
   "cell_type": "code",
   "execution_count": null,
   "id": "7d84b8ca",
   "metadata": {},
   "outputs": [],
   "source": [
    "#first, we reset the test generator to avoid shuffling of index as we want it to be orderly\n",
    "test_generator1.reset()\n",
    "pred1 = model2.predict(test_generator1, steps = step_test_size1, verbose = 1)"
   ]
  },
  {
   "cell_type": "code",
   "execution_count": null,
   "id": "5fa53554",
   "metadata": {},
   "outputs": [],
   "source": [
    "#this is to get the filenames in the generator using the attribute .filenames\n",
    "file_names1 = test_generator1.filenames\n",
    "\n",
    "#convert the predicted values to a dataframe and join two labels together if the probability of occurrance \n",
    "#of the label is greater than 0.5 \n",
    "pred_tags1 = pd.DataFrame(pred1)\n",
    "pred_tags1 = pred_tags1.apply(lambda x: ' '.join(np.array(labels)[x>0.5]), axis = 1)\n",
    "\n",
    "#then the result should look like this \n",
    "result1 = pd.DataFrame({'image_name': file_names1, 'tags': pred_tags1})\n",
    "result1.head()"
   ]
  },
  {
   "cell_type": "code",
   "execution_count": null,
   "id": "25d39b20",
   "metadata": {},
   "outputs": [],
   "source": [
    "#second batch of the test dataset\n",
    "test2_df = sample_submission1.iloc[40669:]['image_name'].reset_index().drop('index', axis =1)\n",
    "test2_df.head()"
   ]
  },
  {
   "cell_type": "code",
   "execution_count": null,
   "id": "fbc4428d",
   "metadata": {},
   "outputs": [],
   "source": [
    "#creating a generator for the second batch of test image files\n",
    "test_generator2 = test_image_gen.flow_from_dataframe(dataframe=test2_df, \n",
    "                                                directory=\"../input/planets-dataset/test-jpg-additional/test-jpg-additional\", \n",
    "                                                x_col=\"image_name\", y_col=None, batch_size=16, \n",
    "                                                shuffle=False, class_mode=None, target_size=(128,128))\n",
    "\n",
    "step_test_size2 = int(np.ceil(test_generator2.samples/test_generator2.batch_size))"
   ]
  },
  {
   "cell_type": "code",
   "execution_count": null,
   "id": "89e8abf1",
   "metadata": {},
   "outputs": [],
   "source": [
    "#we reset the generator to avoid shuffling, then make prediction on the generator\n",
    "test_generator2.reset()\n",
    "pred2 = model2.predict(test_generator2, steps = step_test_size2, verbose = 1)"
   ]
  },
  {
   "cell_type": "code",
   "execution_count": null,
   "id": "bec3fa6a",
   "metadata": {},
   "outputs": [],
   "source": [
    "#this is to get the filenames in the generator using the attribute .filenames\n",
    "file_names2 = test_generator2.filenames\n",
    "\n",
    "#convert the predicted values to a dataframe and join two labels together if the probability of occurrance \n",
    "#of the label is greater than 0.5\n",
    "pred_tags2 = pd.DataFrame(pred2)\n",
    "pred_tags2 = pred_tags2.apply(lambda x: ''.join(np.array(labels)[x>0.5]), axis = 1)\n",
    "\n",
    "#then the result should look like this\n",
    "result2 = pd.DataFrame({'image_name': file_names2, 'tags': pred_tags2})\n",
    "result2.head()"
   ]
  },
  {
   "cell_type": "code",
   "execution_count": null,
   "id": "2b717876",
   "metadata": {},
   "outputs": [],
   "source": [
    "#for the final result of the predicted tags for the test images, we need to concat the first and second results in \n",
    "#that order to avoid shuffling the index\n",
    "last_result = pd.concat([result1, result2])\n",
    "\n",
    "last_result = last_result.reset_index().drop('index', axis =1)\n",
    "\n",
    "print(last_result.shape)\n",
    "#print the final result\n",
    "last_result.head()"
   ]
  },
  {
   "cell_type": "code",
   "execution_count": null,
   "id": "f0d58aa9",
   "metadata": {},
   "outputs": [],
   "source": [
    "#we need to remove the .jpg extension from the image_name of the last_result because from the sample submission the \n",
    "#extension was not there, we added it for easy manipulation of the data.\n",
    "last_result['image_name'] = last_result['image_name'].apply(lambda x: x[:-4])\n",
    "last_result.head()"
   ]
  },
  {
   "cell_type": "code",
   "execution_count": null,
   "id": "66860a5f",
   "metadata": {},
   "outputs": [],
   "source": []
  }
 ],
 "metadata": {
  "kernelspec": {
   "display_name": "Python 3 (ipykernel)",
   "language": "python",
   "name": "python3"
  },
  "language_info": {
   "codemirror_mode": {
    "name": "ipython",
    "version": 3
   },
   "file_extension": ".py",
   "mimetype": "text/x-python",
   "name": "python",
   "nbconvert_exporter": "python",
   "pygments_lexer": "ipython3",
   "version": "3.9.12"
  }
 },
 "nbformat": 4,
 "nbformat_minor": 5
}
