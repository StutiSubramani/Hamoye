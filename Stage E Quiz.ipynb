{
 "cells": [
  {
   "cell_type": "code",
   "execution_count": null,
   "id": "3e41c8e0",
   "metadata": {},
   "outputs": [],
   "source": [
    "#importing the required libraries\n",
    "import pandas as pd\n",
    "import numpy as np\n",
    "import matplotlib.pyplot as plt\n",
    "import seaborn as sns\n",
    "import statsmodels.api as sm\n",
    "from pylab import rcParams\n",
    "from statsmodels.tsa.stattools import adfuller\n",
    "from fbprophet import Prophet\n",
    "from sklearn import metrics"
   ]
  },
  {
   "cell_type": "code",
   "execution_count": null,
   "id": "bc1f83b0",
   "metadata": {},
   "outputs": [],
   "source": [
    "link = 'https://github.com/HamoyeHQ/HDSC-Time-series-analysis-and-forecast/files/7768846/Time_series_analysis_and_forecast_DATASET.csv'\n",
    "data = pd.read_csv(link, encoding = 'latin-1')\n",
    "data.head()"
   ]
  },
  {
   "cell_type": "code",
   "execution_count": null,
   "id": "3de8f532",
   "metadata": {},
   "outputs": [],
   "source": [
    "# Converting FullDate column into Date time\n",
    "data['FullDate'] = pd.to_datetime(data['FullDate'])\n",
    "data.describe()"
   ]
  },
  {
   "cell_type": "code",
   "execution_count": null,
   "id": "565eb470",
   "metadata": {},
   "outputs": [],
   "source": [
    "data.set_index('FullDate', inplace = True) #FullDate as an index"
   ]
  },
  {
   "cell_type": "code",
   "execution_count": null,
   "id": "6855312c",
   "metadata": {},
   "outputs": [],
   "source": [
    "plt.plot(data.index, data.ElecPrice, '--', marker='*')\n",
    "plt.figure(figsize=(20,8)) \n",
    "plt.grid()\n",
    "plt.xlabel('Year')\n",
    "plt.ylabel('Electricity Price')\n",
    "plt.title('Electricity Price over a time')"
   ]
  },
  {
   "cell_type": "code",
   "execution_count": null,
   "id": "513171e6",
   "metadata": {},
   "outputs": [],
   "source": [
    "#Plot of ElecPrice over time\n",
    "quarter_rate = data.resample('3M').sum()\n",
    "daily_rate = data.resample('D').sum()\n",
    "plt.figure(figsize= (20,7) )\n",
    "plt.plot(daily_rate.index, daily_rate.ElecPrice, '--', marker='*')\n",
    "plt.grid()\n",
    "plt.xlabel('Year')\n",
    "plt.ylabel('Electricity Price')\n",
    "plt.title('Electricity Price over a time (sampled Data)')"
   ]
  },
  {
   "cell_type": "code",
   "execution_count": null,
   "id": "34b0bbdb",
   "metadata": {},
   "outputs": [],
   "source": [
    "# Information of ADF test\n",
    "def display_adfuller_info(adfull):\n",
    "  print(f'ADF Statistic: {adfull[0]}')\n",
    "  print(f'p-value: {adfull[1]}')\n",
    "  print(f'No. of lags used: {adfull[2]}')\n",
    "  print(f'No. of observations used : {adfull[3]}')\n",
    "  print('Critical Values:')\n",
    "  for k, v in adfull[4].items():\n",
    "      print(f' {k}: {v}')\n",
    "    sys_load = adfuller(daily_rate['SysLoad'])\n",
    "display_adfuller_info(sys_load)"
   ]
  },
  {
   "cell_type": "code",
   "execution_count": null,
   "id": "0f2b5e79",
   "metadata": {},
   "outputs": [],
   "source": [
    "gas_price = adfuller(daily_rate['GasPrice'])\n",
    "display_adfuller_info(gas_price)"
   ]
  },
  {
   "cell_type": "code",
   "execution_count": null,
   "id": "c5c3cc78",
   "metadata": {},
   "outputs": [],
   "source": [
    "elec_price = adfuller(daily_rate['ElecPrice'])\n",
    "display_adfuller_info(elec_price)"
   ]
  },
  {
   "cell_type": "code",
   "execution_count": null,
   "id": "0135cf0d",
   "metadata": {},
   "outputs": [],
   "source": [
    "round(sys_load[1],6)\n",
    "round(gas_price[1],6)\n",
    "round(gas_price[4][\"10%\"],4)\n",
    "round(elec_price[4][\"5%\"],4)"
   ]
  },
  {
   "cell_type": "code",
   "execution_count": null,
   "id": "8e79500d",
   "metadata": {},
   "outputs": [],
   "source": [
    "# Splitting daily sampled rate into train and test \n",
    "train_data = daily_rate.iloc[:2757,:]\n",
    "test_data = daily_rate.iloc[2757:,:]\n",
    "train_data.shape , test_data.shape"
   ]
  },
  {
   "cell_type": "code",
   "execution_count": null,
   "id": "21f95583",
   "metadata": {},
   "outputs": [],
   "source": [
    "# Reset the index\n",
    "train_data.reset_index(inplace = True)\n",
    "train_data.head()"
   ]
  },
  {
   "cell_type": "code",
   "execution_count": null,
   "id": "5d48c69b",
   "metadata": {},
   "outputs": [],
   "source": [
    "# Rename the columns\n",
    "df_train = train_data.iloc[:,[0,-1]]\n",
    "df_train = df_train.rename(columns={\"FullDate\": \"ds\", \"ElecPrice\": \"y\"})\n",
    "df_train.head()"
   ]
  },
  {
   "cell_type": "code",
   "execution_count": null,
   "id": "3c8bf553",
   "metadata": {},
   "outputs": [],
   "source": [
    "# Reset the index\n",
    "test_data.reset_index(inplace = True)\n",
    "test_data.head()"
   ]
  },
  {
   "cell_type": "code",
   "execution_count": null,
   "id": "0b4f8493",
   "metadata": {},
   "outputs": [],
   "source": [
    "# Rename the required columns\n",
    "test_df = test_data.iloc[:,[0,-1]]\n",
    "test_df = test_df.rename(columns={\"FullDate\": \"ds\", \"ElecPrice\": \"y\"})\n",
    "test_df.head()"
   ]
  },
  {
   "cell_type": "code",
   "execution_count": null,
   "id": "315acd63",
   "metadata": {},
   "outputs": [],
   "source": [
    "# Model Implementation\n",
    "model = Prophet()\n",
    "model.fit(df_train)\n",
    "forecast_result = model.predict(test_df) \n",
    "forecast_result.head()"
   ]
  },
  {
   "cell_type": "code",
   "execution_count": null,
   "id": "16a7573c",
   "metadata": {},
   "outputs": [],
   "source": [
    "#MAPE\n",
    "def Metric(y_true,y_pred):\n",
    "  y_true,y_pred = np.array(y_true), np.array(y_pred)\n",
    "  return np.mean(np.abs((y_true - y_pred)/y_true)) *100\n",
    "MAPE = Metric(test_df['y'],forecast_result['yhat'])\n",
    "round(MAPE,2)"
   ]
  },
  {
   "cell_type": "code",
   "execution_count": null,
   "id": "0e3e5f20",
   "metadata": {},
   "outputs": [],
   "source": [
    "RMSE = np.sqrt(metrics.mean_squared_error(test_df['y'],forecast_result['yhat']))\n",
    "round(RMSE,2)"
   ]
  },
  {
   "cell_type": "code",
   "execution_count": null,
   "id": "f41e7738",
   "metadata": {},
   "outputs": [],
   "source": [
    "model.plot_components(forecast_result)"
   ]
  },
  {
   "cell_type": "code",
   "execution_count": null,
   "id": "3a53a8fa",
   "metadata": {},
   "outputs": [],
   "source": [
    "# Reset the index\n",
    "daily_rate.reset_index(inplace=True)\n",
    "daily_rate.head(2)"
   ]
  },
  {
   "cell_type": "code",
   "execution_count": null,
   "id": "7996b195",
   "metadata": {},
   "outputs": [],
   "source": [
    "# Rename the columns\n",
    "dsr = daily_rate.rename(columns = {'FullDate':'ds','Tmax':'add2',\n",
    "                                           'SysLoad':'add1','GasPrice':'add3',\n",
    "                                           'ElecPrice':'y'})\n",
    "dsr.head(3)"
   ]
  },
  {
   "cell_type": "code",
   "execution_count": null,
   "id": "b2f16c3e",
   "metadata": {},
   "outputs": [],
   "source": [
    "# Split the dataset into train and test sets\n",
    "train_dsr = dsr.iloc[:2757,:]\n",
    "test_dsr = dsr.iloc[2757:,:]\n",
    "# Model implementation\n",
    "model = Prophet()\n",
    "model.add_regressor('add1')\n",
    "model.add_regressor('add2')\n",
    "model.add_regressor('add3')\n",
    "model = model.fit(train_dsr)"
   ]
  },
  {
   "cell_type": "code",
   "execution_count": null,
   "id": "c196ce0a",
   "metadata": {},
   "outputs": [],
   "source": [
    "forecast_new_result = model.predict(test_dsr)\n",
    "MAPE = Metric(test_dsr['y'],forecast_new_result['yhat'])\n",
    "round(MAPE,2)"
   ]
  },
  {
   "cell_type": "code",
   "execution_count": null,
   "id": "8071f2d6",
   "metadata": {},
   "outputs": [],
   "source": [
    "RMSE = np.sqrt(metrics.mean_squared_error(test_dsr['y'],forecast_new_result['yhat']))\n",
    "round(RMSE,2)"
   ]
  },
  {
   "cell_type": "code",
   "execution_count": null,
   "id": "09401273",
   "metadata": {},
   "outputs": [],
   "source": [
    "model.plot_components(forecast_new_result)"
   ]
  },
  {
   "cell_type": "code",
   "execution_count": null,
   "id": "224b077c",
   "metadata": {},
   "outputs": [],
   "source": [
    "# Split the dataset\n",
    "trainData = daily_rate.iloc[:2757,:]\n",
    "testData = daily_rate.iloc[2757:,:]\n",
    "trainData.shape , testData.shape"
   ]
  },
  {
   "cell_type": "code",
   "execution_count": null,
   "id": "e3df2c72",
   "metadata": {},
   "outputs": [],
   "source": [
    "# Exclude the Tmax \n",
    "train_df = trainData.iloc[:,[0,2,3,4]]\n",
    "test_df = testData.iloc[:,[0,2,3,4]]\n",
    "# Exclude the Tmax \n",
    "train_df = trainData.iloc[:,[0,2,3,4]]\n",
    "test_df = testData.iloc[:,[0,2,3,4]]\n",
    "# Rename the columns\n",
    "train_df = train_df.rename(columns = {'FullDate':'ds',\n",
    "                                           'SysLoad':'add1','GasPrice':'add2',\n",
    "                                           'ElecPrice':'y'})\n",
    "test_df = test_df.rename(columns = {'FullDate':'ds',\n",
    "                                           'SysLoad':'add1','GasPrice':'add2',\n",
    "                                           'ElecPrice':'y'})\n",
    "train_df.head(2)"
   ]
  },
  {
   "cell_type": "code",
   "execution_count": null,
   "id": "a6524031",
   "metadata": {},
   "outputs": [],
   "source": [
    "# Model Implementation\n",
    "model = Prophet()\n",
    "model.add_regressor('add1')\n",
    "model.add_regressor('add2')\n",
    "model = model.fit(train_df)\n",
    "forecast_values_new = model.predict(test_df)"
   ]
  },
  {
   "cell_type": "code",
   "execution_count": null,
   "id": "759e2453",
   "metadata": {},
   "outputs": [],
   "source": [
    "MAPE = Metric(test_df['y'],forecast_values_new['yhat'])\n",
    "round(MAPE,2)"
   ]
  },
  {
   "cell_type": "code",
   "execution_count": null,
   "id": "27ffa3f2",
   "metadata": {},
   "outputs": [],
   "source": [
    "model.plot_components(forecast_values_new)"
   ]
  },
  {
   "cell_type": "code",
   "execution_count": null,
   "id": "3b1f7fda",
   "metadata": {},
   "outputs": [],
   "source": []
  }
 ],
 "metadata": {
  "kernelspec": {
   "display_name": "Python 3 (ipykernel)",
   "language": "python",
   "name": "python3"
  },
  "language_info": {
   "codemirror_mode": {
    "name": "ipython",
    "version": 3
   },
   "file_extension": ".py",
   "mimetype": "text/x-python",
   "name": "python",
   "nbconvert_exporter": "python",
   "pygments_lexer": "ipython3",
   "version": "3.9.12"
  }
 },
 "nbformat": 4,
 "nbformat_minor": 5
}
